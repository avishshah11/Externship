{
 "cells": [
  {
   "cell_type": "markdown",
   "id": "4db8f183",
   "metadata": {},
   "source": [
    "# Keywords\n",
    "\n",
    "# List\n",
    "\n",
    "# Dict\n",
    "\n",
    "# Functions"
   ]
  },
  {
   "cell_type": "code",
   "execution_count": 2,
   "id": "44fbe894",
   "metadata": {},
   "outputs": [
    {
     "data": {
      "text/plain": [
       "{'location': 'New York', 'salary': '100000USD'}"
      ]
     },
     "execution_count": 2,
     "metadata": {},
     "output_type": "execute_result"
    }
   ],
   "source": [
    "dict1 = {'location':'New York', 'salary':'100000USD'}\n",
    "dict1"
   ]
  },
  {
   "cell_type": "code",
   "execution_count": null,
   "id": "c3209bde",
   "metadata": {},
   "outputs": [],
   "source": [
    "#functions\n",
    "\n",
    "def name(param):\n",
    "    body of function"
   ]
  },
  {
   "cell_type": "code",
   "execution_count": 3,
   "id": "fa661077",
   "metadata": {},
   "outputs": [
    {
     "name": "stdout",
     "output_type": "stream",
     "text": [
      "Name : LALA\n",
      "Country : USA\n"
     ]
    }
   ],
   "source": [
    "def user_details(name, country):\n",
    "    print('Name :', name)\n",
    "    print('Country :' ,country)\n",
    "\n",
    "user_details(\"John smith\", \"usa\")"
   ]
  }
 ],
 "metadata": {
  "kernelspec": {
   "display_name": "Python 3",
   "language": "python",
   "name": "python3"
  },
  "language_info": {
   "codemirror_mode": {
    "name": "ipython",
    "version": 3
   },
   "file_extension": ".py",
   "mimetype": "text/x-python",
   "name": "python",
   "nbconvert_exporter": "python",
   "pygments_lexer": "ipython3",
   "version": "3.8.8"
  }
 },
 "nbformat": 4,
 "nbformat_minor": 5
}
