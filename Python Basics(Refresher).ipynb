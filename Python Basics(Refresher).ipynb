{
 "cells": [
  {
   "cell_type": "markdown",
   "id": "9f47bbfb",
   "metadata": {},
   "source": [
    "# Python"
   ]
  },
  {
   "cell_type": "code",
   "execution_count": 3,
   "id": "ffe3b4db",
   "metadata": {},
   "outputs": [
    {
     "name": "stdout",
     "output_type": "stream",
     "text": [
      "welcome to SmartBrigde\n"
     ]
    }
   ],
   "source": [
    "print(\"welcome to SmartBrigde\")"
   ]
  },
  {
   "cell_type": "code",
   "execution_count": 4,
   "id": "ff16c1e6",
   "metadata": {},
   "outputs": [
    {
     "data": {
      "text/plain": [
       "int"
      ]
     },
     "execution_count": 4,
     "metadata": {},
     "output_type": "execute_result"
    }
   ],
   "source": [
    "a = 5\n",
    "type(a)"
   ]
  },
  {
   "cell_type": "code",
   "execution_count": 5,
   "id": "c9f0b9c1",
   "metadata": {},
   "outputs": [
    {
     "name": "stdout",
     "output_type": "stream",
     "text": [
      "['False', 'None', 'True', 'and', 'as', 'assert', 'async', 'await', 'break', 'class', 'continue', 'def', 'del', 'elif', 'else', 'except', 'finally', 'for', 'from', 'global', 'if', 'import', 'in', 'is', 'lambda', 'nonlocal', 'not', 'or', 'pass', 'raise', 'return', 'try', 'while', 'with', 'yield']\n"
     ]
    }
   ],
   "source": [
    "import keyword\n",
    "print(keyword.kwlist)"
   ]
  },
  {
   "cell_type": "code",
   "execution_count": 7,
   "id": "bd9e3423",
   "metadata": {},
   "outputs": [
    {
     "data": {
      "text/plain": [
       "['fb', 'ig', 'az', 'ts']"
      ]
     },
     "execution_count": 7,
     "metadata": {},
     "output_type": "execute_result"
    }
   ],
   "source": [
    "str1=['fb',\n",
    "      'ig',\n",
    "      'az',\n",
    "      'ts'    \n",
    "]\n",
    "str1"
   ]
  },
  {
   "cell_type": "code",
   "execution_count": null,
   "id": "d1496620",
   "metadata": {},
   "outputs": [],
   "source": []
  },
  {
   "cell_type": "markdown",
   "id": "0b453eed",
   "metadata": {},
   "source": [
    "# Data Types"
   ]
  },
  {
   "cell_type": "markdown",
   "id": "fb2f89b8",
   "metadata": {},
   "source": [
    "## Numbers"
   ]
  },
  {
   "cell_type": "code",
   "execution_count": 8,
   "id": "334f4afa",
   "metadata": {},
   "outputs": [
    {
     "name": "stdout",
     "output_type": "stream",
     "text": [
      "10\n"
     ]
    }
   ],
   "source": [
    "num = 10\n",
    "print(num)"
   ]
  },
  {
   "cell_type": "code",
   "execution_count": 11,
   "id": "6d8a8df4",
   "metadata": {},
   "outputs": [
    {
     "name": "stdout",
     "output_type": "stream",
     "text": [
      "(10+5j)\n",
      "<class 'complex'>\n"
     ]
    }
   ],
   "source": [
    "num = 10+5j\n",
    "print(num)\n",
    "print(type(num))"
   ]
  },
  {
   "cell_type": "code",
   "execution_count": 12,
   "id": "b5e70083",
   "metadata": {},
   "outputs": [
    {
     "data": {
      "text/plain": [
       "False"
      ]
     },
     "execution_count": 12,
     "metadata": {},
     "output_type": "execute_result"
    }
   ],
   "source": [
    "bool(0)"
   ]
  },
  {
   "cell_type": "code",
   "execution_count": 13,
   "id": "cf3be28f",
   "metadata": {},
   "outputs": [
    {
     "data": {
      "text/plain": [
       "True"
      ]
     },
     "execution_count": 13,
     "metadata": {},
     "output_type": "execute_result"
    }
   ],
   "source": [
    "bool(1)"
   ]
  },
  {
   "cell_type": "markdown",
   "id": "c5b9fe7b",
   "metadata": {},
   "source": [
    "## List"
   ]
  },
  {
   "cell_type": "code",
   "execution_count": 14,
   "id": "556cbdfe",
   "metadata": {},
   "outputs": [],
   "source": [
    "list1 = []"
   ]
  },
  {
   "cell_type": "code",
   "execution_count": 15,
   "id": "59546517",
   "metadata": {},
   "outputs": [
    {
     "data": {
      "text/plain": [
       "list"
      ]
     },
     "execution_count": 15,
     "metadata": {},
     "output_type": "execute_result"
    }
   ],
   "source": [
    "type(list1)"
   ]
  },
  {
   "cell_type": "code",
   "execution_count": 17,
   "id": "aef21daf",
   "metadata": {},
   "outputs": [],
   "source": [
    "age = [34,45,32,94]"
   ]
  },
  {
   "cell_type": "code",
   "execution_count": 18,
   "id": "22ad29b5",
   "metadata": {},
   "outputs": [
    {
     "data": {
      "text/plain": [
       "[34, 45, 32, 94]"
      ]
     },
     "execution_count": 18,
     "metadata": {},
     "output_type": "execute_result"
    }
   ],
   "source": [
    "age"
   ]
  },
  {
   "cell_type": "code",
   "execution_count": 19,
   "id": "cbbe215c",
   "metadata": {},
   "outputs": [],
   "source": [
    "ipl = [2020, 2021, 'CSK', 'MI', 233]"
   ]
  },
  {
   "cell_type": "code",
   "execution_count": 20,
   "id": "28958cf4",
   "metadata": {},
   "outputs": [
    {
     "data": {
      "text/plain": [
       "[2020, 2021, 'CSK', 'MI', 233]"
      ]
     },
     "execution_count": 20,
     "metadata": {},
     "output_type": "execute_result"
    }
   ],
   "source": [
    "ipl"
   ]
  },
  {
   "cell_type": "code",
   "execution_count": 21,
   "id": "a5b4b463",
   "metadata": {},
   "outputs": [
    {
     "data": {
      "text/plain": [
       "[2020, 2021, 'CSK']"
      ]
     },
     "execution_count": 21,
     "metadata": {},
     "output_type": "execute_result"
    }
   ],
   "source": [
    "ipl[0:3]"
   ]
  },
  {
   "cell_type": "code",
   "execution_count": 25,
   "id": "5059273e",
   "metadata": {},
   "outputs": [],
   "source": [
    "ipl[0:3] = [2008, 'GT', 'RCB']"
   ]
  },
  {
   "cell_type": "code",
   "execution_count": 26,
   "id": "c227f8da",
   "metadata": {},
   "outputs": [
    {
     "data": {
      "text/plain": [
       "[2008, 'GT', 'RCB', 'MI', 233]"
      ]
     },
     "execution_count": 26,
     "metadata": {},
     "output_type": "execute_result"
    }
   ],
   "source": [
    "ipl"
   ]
  },
  {
   "cell_type": "markdown",
   "id": "8c9851d7",
   "metadata": {},
   "source": [
    "# Tuple"
   ]
  },
  {
   "cell_type": "code",
   "execution_count": 27,
   "id": "56a82b33",
   "metadata": {},
   "outputs": [
    {
     "data": {
      "text/plain": [
       "tuple"
      ]
     },
     "execution_count": 27,
     "metadata": {},
     "output_type": "execute_result"
    }
   ],
   "source": [
    "tupl1 = ()\n",
    "type(tupl1)"
   ]
  },
  {
   "cell_type": "code",
   "execution_count": 28,
   "id": "ba1fa32a",
   "metadata": {},
   "outputs": [],
   "source": [
    "tup1 = ('fb', 32.3, 212)"
   ]
  },
  {
   "cell_type": "code",
   "execution_count": 29,
   "id": "bf4353f8",
   "metadata": {},
   "outputs": [
    {
     "data": {
      "text/plain": [
       "('fb', 32.3, 212)"
      ]
     },
     "execution_count": 29,
     "metadata": {},
     "output_type": "execute_result"
    }
   ],
   "source": [
    "tup1"
   ]
  },
  {
   "cell_type": "markdown",
   "id": "3b7585cc",
   "metadata": {},
   "source": [
    "# Strings"
   ]
  },
  {
   "cell_type": "code",
   "execution_count": 30,
   "id": "698b99e6",
   "metadata": {},
   "outputs": [],
   "source": [
    "str1 = 'welcome peeps'"
   ]
  },
  {
   "cell_type": "code",
   "execution_count": 31,
   "id": "e639e6c1",
   "metadata": {},
   "outputs": [
    {
     "data": {
      "text/plain": [
       "'welcome peeps'"
      ]
     },
     "execution_count": 31,
     "metadata": {},
     "output_type": "execute_result"
    }
   ],
   "source": [
    "str1"
   ]
  },
  {
   "cell_type": "code",
   "execution_count": 32,
   "id": "6a86bb52",
   "metadata": {},
   "outputs": [
    {
     "data": {
      "text/plain": [
       "13"
      ]
     },
     "execution_count": 32,
     "metadata": {},
     "output_type": "execute_result"
    }
   ],
   "source": [
    "len(str1)"
   ]
  },
  {
   "cell_type": "code",
   "execution_count": 33,
   "id": "40b5a34c",
   "metadata": {},
   "outputs": [
    {
     "data": {
      "text/plain": [
       "'c'"
      ]
     },
     "execution_count": 33,
     "metadata": {},
     "output_type": "execute_result"
    }
   ],
   "source": [
    "str1[3]"
   ]
  },
  {
   "cell_type": "code",
   "execution_count": 35,
   "id": "52735f40",
   "metadata": {},
   "outputs": [
    {
     "data": {
      "text/plain": [
       "'welcome'"
      ]
     },
     "execution_count": 35,
     "metadata": {},
     "output_type": "execute_result"
    }
   ],
   "source": [
    "str1[0:7]"
   ]
  },
  {
   "cell_type": "code",
   "execution_count": 37,
   "id": "c42618a1",
   "metadata": {},
   "outputs": [
    {
     "data": {
      "text/plain": [
       "'speep emoclew'"
      ]
     },
     "execution_count": 37,
     "metadata": {},
     "output_type": "execute_result"
    }
   ],
   "source": [
    "str1[::-1]"
   ]
  },
  {
   "cell_type": "code",
   "execution_count": 38,
   "id": "9172e5da",
   "metadata": {},
   "outputs": [
    {
     "name": "stdout",
     "output_type": "stream",
     "text": [
      "w\n",
      "e\n",
      "l\n",
      "c\n",
      "o\n",
      "m\n",
      "e\n",
      " \n",
      "p\n",
      "e\n",
      "e\n",
      "p\n",
      "s\n"
     ]
    }
   ],
   "source": [
    "for i in str1:\n",
    "    print(i)"
   ]
  },
  {
   "cell_type": "code",
   "execution_count": 39,
   "id": "d667e9c1",
   "metadata": {},
   "outputs": [
    {
     "name": "stdout",
     "output_type": "stream",
     "text": [
      "(0, 'w')\n",
      "(1, 'e')\n",
      "(2, 'l')\n",
      "(3, 'c')\n",
      "(4, 'o')\n",
      "(5, 'm')\n",
      "(6, 'e')\n",
      "(7, ' ')\n",
      "(8, 'p')\n",
      "(9, 'e')\n",
      "(10, 'e')\n",
      "(11, 'p')\n",
      "(12, 's')\n"
     ]
    }
   ],
   "source": [
    "for i in enumerate(str1):\n",
    "    print(i)"
   ]
  },
  {
   "cell_type": "code",
   "execution_count": 40,
   "id": "1c524167",
   "metadata": {},
   "outputs": [],
   "source": [
    "details = \"I am working with aliens\""
   ]
  },
  {
   "cell_type": "code",
   "execution_count": 41,
   "id": "ce899762",
   "metadata": {},
   "outputs": [
    {
     "data": {
      "text/plain": [
       "['I', 'am', 'working', 'with', 'aliens']"
      ]
     },
     "execution_count": 41,
     "metadata": {},
     "output_type": "execute_result"
    }
   ],
   "source": [
    "details.split()"
   ]
  },
  {
   "cell_type": "markdown",
   "id": "690f7a9f",
   "metadata": {},
   "source": [
    "# Sets"
   ]
  },
  {
   "cell_type": "code",
   "execution_count": 43,
   "id": "36c22501",
   "metadata": {},
   "outputs": [],
   "source": [
    "set1 = {12,45,654}"
   ]
  },
  {
   "cell_type": "code",
   "execution_count": 44,
   "id": "325bd08a",
   "metadata": {},
   "outputs": [
    {
     "data": {
      "text/plain": [
       "{12, 45, 654}"
      ]
     },
     "execution_count": 44,
     "metadata": {},
     "output_type": "execute_result"
    }
   ],
   "source": [
    "set1"
   ]
  },
  {
   "cell_type": "code",
   "execution_count": 47,
   "id": "c6d0f4f2",
   "metadata": {},
   "outputs": [],
   "source": [
    "set1 = {'ramdom', 65,98.05}"
   ]
  },
  {
   "cell_type": "code",
   "execution_count": 48,
   "id": "9a2db551",
   "metadata": {},
   "outputs": [
    {
     "data": {
      "text/plain": [
       "{65, 98.05, 'ramdom'}"
      ]
     },
     "execution_count": 48,
     "metadata": {},
     "output_type": "execute_result"
    }
   ],
   "source": [
    "set1"
   ]
  },
  {
   "cell_type": "code",
   "execution_count": 49,
   "id": "f818ccff",
   "metadata": {},
   "outputs": [
    {
     "ename": "TypeError",
     "evalue": "unhashable type: 'list'",
     "output_type": "error",
     "traceback": [
      "\u001b[1;31m---------------------------------------------------------------------------\u001b[0m",
      "\u001b[1;31mTypeError\u001b[0m                                 Traceback (most recent call last)",
      "\u001b[1;32m<ipython-input-49-3ff2a8fc491e>\u001b[0m in \u001b[0;36m<module>\u001b[1;34m\u001b[0m\n\u001b[1;32m----> 1\u001b[1;33m \u001b[0mset1\u001b[0m \u001b[1;33m=\u001b[0m \u001b[1;33m{\u001b[0m\u001b[1;34m'lala'\u001b[0m\u001b[1;33m,\u001b[0m \u001b[1;36m23\u001b[0m\u001b[1;33m,\u001b[0m\u001b[1;36m34.4\u001b[0m\u001b[1;33m,\u001b[0m\u001b[1;33m[\u001b[0m\u001b[1;36m32\u001b[0m\u001b[1;33m,\u001b[0m\u001b[1;36m91\u001b[0m\u001b[1;33m]\u001b[0m\u001b[1;33m}\u001b[0m\u001b[1;33m\u001b[0m\u001b[1;33m\u001b[0m\u001b[0m\n\u001b[0m",
      "\u001b[1;31mTypeError\u001b[0m: unhashable type: 'list'"
     ]
    }
   ],
   "source": [
    "set1 = {'lala', 23,34.4,[32,91]}"
   ]
  },
  {
   "cell_type": "code",
   "execution_count": 51,
   "id": "42fe3817",
   "metadata": {},
   "outputs": [],
   "source": [
    "set1 = {43,43,53,12,53}"
   ]
  },
  {
   "cell_type": "code",
   "execution_count": 52,
   "id": "d5291949",
   "metadata": {},
   "outputs": [
    {
     "data": {
      "text/plain": [
       "{12, 43, 53}"
      ]
     },
     "execution_count": 52,
     "metadata": {},
     "output_type": "execute_result"
    }
   ],
   "source": [
    "set1"
   ]
  },
  {
   "cell_type": "code",
   "execution_count": 53,
   "id": "abdb2180",
   "metadata": {},
   "outputs": [],
   "source": [
    "set1.remove(12)"
   ]
  },
  {
   "cell_type": "code",
   "execution_count": 54,
   "id": "f74a9a59",
   "metadata": {},
   "outputs": [
    {
     "data": {
      "text/plain": [
       "{43, 53}"
      ]
     },
     "execution_count": 54,
     "metadata": {},
     "output_type": "execute_result"
    }
   ],
   "source": [
    "set1"
   ]
  },
  {
   "cell_type": "markdown",
   "id": "81fa3fef",
   "metadata": {},
   "source": [
    "# Dictionary"
   ]
  },
  {
   "cell_type": "code",
   "execution_count": 55,
   "id": "4dea73cc",
   "metadata": {},
   "outputs": [
    {
     "data": {
      "text/plain": [
       "dict"
      ]
     },
     "execution_count": 55,
     "metadata": {},
     "output_type": "execute_result"
    }
   ],
   "source": [
    "dict1 = {}\n",
    "type(dict1)"
   ]
  },
  {
   "cell_type": "code",
   "execution_count": 59,
   "id": "2b3eb04e",
   "metadata": {},
   "outputs": [
    {
     "data": {
      "text/plain": [
       "{'location': 'New York', 'salary': '100000USD'}"
      ]
     },
     "execution_count": 59,
     "metadata": {},
     "output_type": "execute_result"
    }
   ],
   "source": [
    "dict1 = {'location':'New York', 'salary':'100000USD'}\n",
    "dict1"
   ]
  },
  {
   "cell_type": "code",
   "execution_count": 60,
   "id": "cec16566",
   "metadata": {},
   "outputs": [
    {
     "data": {
      "text/plain": [
       "'100000USD'"
      ]
     },
     "execution_count": 60,
     "metadata": {},
     "output_type": "execute_result"
    }
   ],
   "source": [
    "dict1.pop('salary')"
   ]
  },
  {
   "cell_type": "code",
   "execution_count": 61,
   "id": "2978d0d1",
   "metadata": {},
   "outputs": [
    {
     "data": {
      "text/plain": [
       "('location', 'New York')"
      ]
     },
     "execution_count": 61,
     "metadata": {},
     "output_type": "execute_result"
    }
   ],
   "source": [
    "dict1.popitem()"
   ]
  },
  {
   "cell_type": "markdown",
   "id": "6d8c7a8a",
   "metadata": {},
   "source": [
    "# Function"
   ]
  },
  {
   "cell_type": "code",
   "execution_count": null,
   "id": "c87a9e78",
   "metadata": {},
   "outputs": [],
   "source": [
    "#functions\n",
    "\n",
    "def name(param):\n",
    "    body of function"
   ]
  },
  {
   "cell_type": "code",
   "execution_count": 4,
   "id": "79aa6951",
   "metadata": {},
   "outputs": [
    {
     "name": "stdout",
     "output_type": "stream",
     "text": [
      "Name : John smith\n",
      "Country : usa\n"
     ]
    }
   ],
   "source": [
    "def user_details(name, country):\n",
    "    print('Name :', name)\n",
    "    print('Country :' ,country)\n",
    "\n",
    "user_details(\"John smith\", \"usa\")"
   ]
  },
  {
   "cell_type": "code",
   "execution_count": 5,
   "id": "e7454349",
   "metadata": {},
   "outputs": [],
   "source": [
    "var1 = 100 #global scope\n",
    "def fun1():\n",
    "    var1 = 50 #local scope\n",
    "    print(var1)\n",
    "def fun2():\n",
    "    print(var1)"
   ]
  },
  {
   "cell_type": "code",
   "execution_count": 7,
   "id": "c25bdb06",
   "metadata": {},
   "outputs": [
    {
     "name": "stdout",
     "output_type": "stream",
     "text": [
      "50\n",
      "100\n"
     ]
    }
   ],
   "source": [
    "fun1()\n",
    "fun2()"
   ]
  },
  {
   "cell_type": "code",
   "execution_count": 64,
   "id": "6188a636",
   "metadata": {},
   "outputs": [],
   "source": [
    "def factorial(num):\n",
    "    if num<=1:\n",
    "        return 1\n",
    "    else:\n",
    "        return num * factorial(num-1)"
   ]
  },
  {
   "cell_type": "code",
   "execution_count": 65,
   "id": "7f69d6ed",
   "metadata": {},
   "outputs": [
    {
     "data": {
      "text/plain": [
       "120"
      ]
     },
     "execution_count": 65,
     "metadata": {},
     "output_type": "execute_result"
    }
   ],
   "source": [
    "factorial(5)"
   ]
  },
  {
   "cell_type": "code",
   "execution_count": 67,
   "id": "e8685cca",
   "metadata": {},
   "outputs": [
    {
     "name": "stdout",
     "output_type": "stream",
     "text": [
      "Enter a number 12\n"
     ]
    },
    {
     "data": {
      "text/plain": [
       "479001600"
      ]
     },
     "execution_count": 67,
     "metadata": {},
     "output_type": "execute_result"
    }
   ],
   "source": [
    "num1 = int(input('Enter a number '))\n",
    "factorial(num1)"
   ]
  }
 ],
 "metadata": {
  "kernelspec": {
   "display_name": "Python 3",
   "language": "python",
   "name": "python3"
  },
  "language_info": {
   "codemirror_mode": {
    "name": "ipython",
    "version": 3
   },
   "file_extension": ".py",
   "mimetype": "text/x-python",
   "name": "python",
   "nbconvert_exporter": "python",
   "pygments_lexer": "ipython3",
   "version": "3.8.8"
  }
 },
 "nbformat": 4,
 "nbformat_minor": 5
}
