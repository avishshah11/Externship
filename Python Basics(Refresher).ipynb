{
 "cells": [
  {
   "cell_type": "markdown",
   "id": "3f5b3218",
   "metadata": {},
   "source": [
    "# Keywords\n",
    "\n",
    "# List\n",
    "\n",
    "# Dict\n",
    "\n",
    "# Functions"
   ]
  },
  {
   "cell_type": "code",
   "execution_count": 2,
   "id": "2b3eb04e",
   "metadata": {},
   "outputs": [
    {
     "data": {
      "text/plain": [
       "{'location': 'New York', 'salary': '100000USD'}"
      ]
     },
     "execution_count": 2,
     "metadata": {},
     "output_type": "execute_result"
    }
   ],
   "source": [
    "dict1 = {'location':'New York', 'salary':'100000USD'}\n",
    "dict1"
   ]
  },
  {
   "cell_type": "code",
   "execution_count": null,
   "id": "c87a9e78",
   "metadata": {},
   "outputs": [],
   "source": [
    "#functions\n",
    "\n",
    "def name(param):\n",
    "    body of function"
   ]
  },
  {
   "cell_type": "code",
   "execution_count": 4,
   "id": "79aa6951",
   "metadata": {},
   "outputs": [
    {
     "name": "stdout",
     "output_type": "stream",
     "text": [
      "Name : John smith\n",
      "Country : usa\n"
     ]
    }
   ],
   "source": [
    "def user_details(name, country):\n",
    "    print('Name :', name)\n",
    "    print('Country :' ,country)\n",
    "\n",
    "user_details(\"John smith\", \"usa\")"
   ]
  },
  {
   "cell_type": "code",
   "execution_count": 5,
   "id": "e7454349",
   "metadata": {},
   "outputs": [],
   "source": [
    "var1 = 100 #global scope\n",
    "def fun1():\n",
    "    var1 = 50 #local scope\n",
    "    print(var1)\n",
    "def fun2():\n",
    "    print(var1)"
   ]
  },
  {
   "cell_type": "code",
   "execution_count": 7,
   "id": "c25bdb06",
   "metadata": {},
   "outputs": [
    {
     "name": "stdout",
     "output_type": "stream",
     "text": [
      "50\n",
      "100\n"
     ]
    }
   ],
   "source": [
    "fun1()\n",
    "fun2()"
   ]
  },
  {
   "cell_type": "code",
   "execution_count": 8,
   "id": "6188a636",
   "metadata": {},
   "outputs": [],
   "source": [
    "def factorial(num):\n",
    "    if num<=1:\n",
    "        return 1\n",
    "    else:\n",
    "        return num * factorial(num-1)"
   ]
  },
  {
   "cell_type": "code",
   "execution_count": 9,
   "id": "7f69d6ed",
   "metadata": {},
   "outputs": [
    {
     "data": {
      "text/plain": [
       "120"
      ]
     },
     "execution_count": 9,
     "metadata": {},
     "output_type": "execute_result"
    }
   ],
   "source": [
    "factorial(5)"
   ]
  }
 ],
 "metadata": {
  "kernelspec": {
   "display_name": "Python 3",
   "language": "python",
   "name": "python3"
  },
  "language_info": {
   "codemirror_mode": {
    "name": "ipython",
    "version": 3
   },
   "file_extension": ".py",
   "mimetype": "text/x-python",
   "name": "python",
   "nbconvert_exporter": "python",
   "pygments_lexer": "ipython3",
   "version": "3.8.8"
  }
 },
 "nbformat": 4,
 "nbformat_minor": 5
}
